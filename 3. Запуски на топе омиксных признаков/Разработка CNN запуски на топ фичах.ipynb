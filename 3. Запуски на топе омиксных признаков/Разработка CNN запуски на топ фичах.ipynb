{
 "cells": [
  {
   "cell_type": "markdown",
   "metadata": {
    "id": "4wWAAuIKhNxR"
   },
   "source": [
    "# Imports"
   ]
  },
  {
   "cell_type": "code",
   "execution_count": 1,
   "metadata": {
    "execution": {
     "iopub.execute_input": "2024-04-24T15:26:26.675850Z",
     "iopub.status.busy": "2024-04-24T15:26:26.675456Z",
     "iopub.status.idle": "2024-04-24T15:26:35.234692Z",
     "shell.execute_reply": "2024-04-24T15:26:35.233537Z",
     "shell.execute_reply.started": "2024-04-24T15:26:26.675817Z"
    },
    "id": "LEQCWRPlhNxS"
   },
   "outputs": [],
   "source": [
    "#Data loading\n",
    "import os\n",
    "import numpy as np\n",
    "import pandas as pd\n",
    "import matplotlib.pyplot as plt\n",
    "\n",
    "from sklearn.metrics import roc_auc_score, f1_score\n",
    "from IPython.display import clear_output\n",
    "\n",
    "from joblib import load\n",
    "from tqdm import trange\n",
    "from tqdm.notebook import tqdm\n",
    "\n",
    "\n",
    "\n",
    "from sklearn.preprocessing import LabelBinarizer\n",
    "from sklearn.model_selection import StratifiedKFold\n",
    "\n",
    "\n",
    "# GNN Model\n",
    "import torch\n",
    "import torch.nn as nn\n",
    "import torch.nn.functional as F\n",
    "from torch_geometric.nn import GCNConv, GraphConv, GATConv, GATv2Conv, SAGEConv\n",
    "\n",
    "\n",
    "# Sparse vector\n",
    "from Sparse_vector.sparse_vector import SparseVector"
   ]
  },
  {
   "cell_type": "code",
   "execution_count": 2,
   "metadata": {
    "execution": {
     "iopub.execute_input": "2024-04-24T15:26:35.237422Z",
     "iopub.status.busy": "2024-04-24T15:26:35.236817Z",
     "iopub.status.idle": "2024-04-24T15:26:35.242706Z",
     "shell.execute_reply": "2024-04-24T15:26:35.241455Z",
     "shell.execute_reply.started": "2024-04-24T15:26:35.237384Z"
    },
    "id": "4gg8q9-zlT9N"
   },
   "outputs": [],
   "source": [
    "def set_random_seed(seed):\n",
    "    torch.manual_seed(seed)\n",
    "    torch.cuda.manual_seed_all(seed)\n",
    "    torch.backends.cudnn.deterministic = True\n",
    "    torch.backends.cudnn.benchmark = False"
   ]
  },
  {
   "cell_type": "markdown",
   "metadata": {
    "id": "1ECTo4ZphNxT"
   },
   "source": [
    "# Data loading"
   ]
  },
  {
   "cell_type": "code",
   "execution_count": 3,
   "metadata": {
    "execution": {
     "iopub.execute_input": "2024-04-24T15:26:35.244202Z",
     "iopub.status.busy": "2024-04-24T15:26:35.243934Z",
     "iopub.status.idle": "2024-04-24T15:26:35.258533Z",
     "shell.execute_reply": "2024-04-24T15:26:35.257604Z",
     "shell.execute_reply.started": "2024-04-24T15:26:35.244179Z"
    },
    "id": "Tvs8h-bGhNxT"
   },
   "outputs": [],
   "source": [
    "chrom_names = [f'chr{i}' for i in list(range(1, 23)) + ['X', 'Y','M']]\n",
    "features = [i[:-4] for i in os.listdir('z_dna/hg38_features/sparse/') if i.endswith('_2.pkl')]\n",
    "groups = ['DNase-seq', 'Histone', 'RNA polymerase', 'TFs and others']\n",
    "feature_names = [i for i in features]"
   ]
  },
  {
   "cell_type": "code",
   "execution_count": 4,
   "metadata": {},
   "outputs": [
    {
     "data": {
      "text/html": [
       "<div>\n",
       "<style scoped>\n",
       "    .dataframe tbody tr th:only-of-type {\n",
       "        vertical-align: middle;\n",
       "    }\n",
       "\n",
       "    .dataframe tbody tr th {\n",
       "        vertical-align: top;\n",
       "    }\n",
       "\n",
       "    .dataframe thead th {\n",
       "        text-align: right;\n",
       "    }\n",
       "</style>\n",
       "<table border=\"1\" class=\"dataframe\">\n",
       "  <thead>\n",
       "    <tr style=\"text-align: right;\">\n",
       "      <th></th>\n",
       "      <th>DeepCNNSiLU_9L_IxG</th>\n",
       "      <th>DeepCNNSiLU_9L_IG</th>\n",
       "      <th>DeepCNNSiLU_9L_Saliency</th>\n",
       "      <th>DeepCNNSiLU_9L_LayerGradCam</th>\n",
       "    </tr>\n",
       "  </thead>\n",
       "  <tbody>\n",
       "    <tr>\n",
       "      <th>0</th>\n",
       "      <td>-4.368711e-01</td>\n",
       "      <td>-1.038035e+00</td>\n",
       "      <td>20.977081</td>\n",
       "      <td>-3.147532e-03</td>\n",
       "    </tr>\n",
       "    <tr>\n",
       "      <th>1</th>\n",
       "      <td>8.657585e+00</td>\n",
       "      <td>7.243870e+00</td>\n",
       "      <td>26.567974</td>\n",
       "      <td>-5.571545e-03</td>\n",
       "    </tr>\n",
       "    <tr>\n",
       "      <th>2</th>\n",
       "      <td>7.244169e+00</td>\n",
       "      <td>6.937872e+00</td>\n",
       "      <td>23.035192</td>\n",
       "      <td>-1.455660e-03</td>\n",
       "    </tr>\n",
       "    <tr>\n",
       "      <th>3</th>\n",
       "      <td>6.185846e-02</td>\n",
       "      <td>-4.965377e-01</td>\n",
       "      <td>19.307569</td>\n",
       "      <td>3.068978e-04</td>\n",
       "    </tr>\n",
       "    <tr>\n",
       "      <th>4</th>\n",
       "      <td>-4.177575e-05</td>\n",
       "      <td>-2.062058e-05</td>\n",
       "      <td>17.888805</td>\n",
       "      <td>-6.346466e-04</td>\n",
       "    </tr>\n",
       "    <tr>\n",
       "      <th>...</th>\n",
       "      <td>...</td>\n",
       "      <td>...</td>\n",
       "      <td>...</td>\n",
       "      <td>...</td>\n",
       "    </tr>\n",
       "    <tr>\n",
       "      <th>1945</th>\n",
       "      <td>5.284818e-08</td>\n",
       "      <td>9.426865e-09</td>\n",
       "      <td>0.004797</td>\n",
       "      <td>8.217006e-08</td>\n",
       "    </tr>\n",
       "    <tr>\n",
       "      <th>1946</th>\n",
       "      <td>2.049477e-08</td>\n",
       "      <td>3.946664e-09</td>\n",
       "      <td>0.004797</td>\n",
       "      <td>8.216477e-08</td>\n",
       "    </tr>\n",
       "    <tr>\n",
       "      <th>1947</th>\n",
       "      <td>2.602889e-10</td>\n",
       "      <td>3.673547e-11</td>\n",
       "      <td>0.004797</td>\n",
       "      <td>8.216104e-08</td>\n",
       "    </tr>\n",
       "    <tr>\n",
       "      <th>1948</th>\n",
       "      <td>1.291463e-09</td>\n",
       "      <td>1.917716e-10</td>\n",
       "      <td>0.004797</td>\n",
       "      <td>5.754021e-08</td>\n",
       "    </tr>\n",
       "    <tr>\n",
       "      <th>1949</th>\n",
       "      <td>2.701387e-07</td>\n",
       "      <td>5.471562e-08</td>\n",
       "      <td>0.004799</td>\n",
       "      <td>2.435338e-08</td>\n",
       "    </tr>\n",
       "  </tbody>\n",
       "</table>\n",
       "<p>1950 rows × 4 columns</p>\n",
       "</div>"
      ],
      "text/plain": [
       "      DeepCNNSiLU_9L_IxG  DeepCNNSiLU_9L_IG  DeepCNNSiLU_9L_Saliency  \\\n",
       "0          -4.368711e-01      -1.038035e+00                20.977081   \n",
       "1           8.657585e+00       7.243870e+00                26.567974   \n",
       "2           7.244169e+00       6.937872e+00                23.035192   \n",
       "3           6.185846e-02      -4.965377e-01                19.307569   \n",
       "4          -4.177575e-05      -2.062058e-05                17.888805   \n",
       "...                  ...                ...                      ...   \n",
       "1945        5.284818e-08       9.426865e-09                 0.004797   \n",
       "1946        2.049477e-08       3.946664e-09                 0.004797   \n",
       "1947        2.602889e-10       3.673547e-11                 0.004797   \n",
       "1948        1.291463e-09       1.917716e-10                 0.004797   \n",
       "1949        2.701387e-07       5.471562e-08                 0.004799   \n",
       "\n",
       "      DeepCNNSiLU_9L_LayerGradCam  \n",
       "0                   -3.147532e-03  \n",
       "1                   -5.571545e-03  \n",
       "2                   -1.455660e-03  \n",
       "3                    3.068978e-04  \n",
       "4                   -6.346466e-04  \n",
       "...                           ...  \n",
       "1945                 8.217006e-08  \n",
       "1946                 8.216477e-08  \n",
       "1947                 8.216104e-08  \n",
       "1948                 5.754021e-08  \n",
       "1949                 2.435338e-08  \n",
       "\n",
       "[1950 rows x 4 columns]"
      ]
     },
     "execution_count": 4,
     "metadata": {},
     "output_type": "execute_result"
    }
   ],
   "source": [
    "import numpy as np\n",
    "import pandas as pd\n",
    "import os\n",
    "\n",
    "file_list = ['DeepCNNSiLU_9L_IxG.npy', 'DeepCNNSiLU_9L_IG.npy', 'DeepCNNSiLU_9L_Saliency.npy', 'DeepCNNSiLU_9L_LayerGradCam.npy']\n",
    "\n",
    "data = {}\n",
    "for file_name in file_list:\n",
    "    \n",
    "    arr = np.load(file_name)\n",
    "    \n",
    "    column_name = os.path.splitext(file_name)[0]\n",
    "    data[column_name] = arr\n",
    "    \n",
    "df = pd.DataFrame(data)\n",
    "df"
   ]
  },
  {
   "cell_type": "code",
   "execution_count": 5,
   "metadata": {},
   "outputs": [
    {
     "data": {
      "text/html": [
       "<div>\n",
       "<style scoped>\n",
       "    .dataframe tbody tr th:only-of-type {\n",
       "        vertical-align: middle;\n",
       "    }\n",
       "\n",
       "    .dataframe tbody tr th {\n",
       "        vertical-align: top;\n",
       "    }\n",
       "\n",
       "    .dataframe thead th {\n",
       "        text-align: right;\n",
       "    }\n",
       "</style>\n",
       "<table border=\"1\" class=\"dataframe\">\n",
       "  <thead>\n",
       "    <tr style=\"text-align: right;\">\n",
       "      <th></th>\n",
       "      <th>DeepCNNSiLU_9L_IxG_p_deviation</th>\n",
       "      <th>DeepCNNSiLU_9L_IG_p_deviation</th>\n",
       "      <th>DeepCNNSiLU_9L_Saliency_p_deviation</th>\n",
       "      <th>DeepCNNSiLU_9L_LayerGradCam_p_deviation</th>\n",
       "      <th>mean_deviation</th>\n",
       "    </tr>\n",
       "  </thead>\n",
       "  <tbody>\n",
       "    <tr>\n",
       "      <th>1</th>\n",
       "      <td>108630.418451</td>\n",
       "      <td>111589.502189</td>\n",
       "      <td>38129.820318</td>\n",
       "      <td>89029.744400</td>\n",
       "      <td>86844.871340</td>\n",
       "    </tr>\n",
       "    <tr>\n",
       "      <th>2</th>\n",
       "      <td>90879.359834</td>\n",
       "      <td>106871.477130</td>\n",
       "      <td>33046.346250</td>\n",
       "      <td>23186.649679</td>\n",
       "      <td>63495.958223</td>\n",
       "    </tr>\n",
       "    <tr>\n",
       "      <th>0</th>\n",
       "      <td>-5586.654026</td>\n",
       "      <td>-16104.926244</td>\n",
       "      <td>30084.839963</td>\n",
       "      <td>50252.049814</td>\n",
       "      <td>14661.327377</td>\n",
       "    </tr>\n",
       "    <tr>\n",
       "      <th>5</th>\n",
       "      <td>-100.416358</td>\n",
       "      <td>-100.089719</td>\n",
       "      <td>19457.035362</td>\n",
       "      <td>17150.031932</td>\n",
       "      <td>9101.640304</td>\n",
       "    </tr>\n",
       "    <tr>\n",
       "      <th>4</th>\n",
       "      <td>-100.524661</td>\n",
       "      <td>-100.317938</td>\n",
       "      <td>25640.985372</td>\n",
       "      <td>10052.639619</td>\n",
       "      <td>8873.195598</td>\n",
       "    </tr>\n",
       "    <tr>\n",
       "      <th>...</th>\n",
       "      <td>...</td>\n",
       "      <td>...</td>\n",
       "      <td>...</td>\n",
       "      <td>...</td>\n",
       "      <td>...</td>\n",
       "    </tr>\n",
       "    <tr>\n",
       "      <th>1104</th>\n",
       "      <td>-100.000000</td>\n",
       "      <td>-100.000000</td>\n",
       "      <td>-93.098092</td>\n",
       "      <td>-101.314432</td>\n",
       "      <td>-98.603131</td>\n",
       "    </tr>\n",
       "    <tr>\n",
       "      <th>649</th>\n",
       "      <td>-100.000000</td>\n",
       "      <td>-100.000000</td>\n",
       "      <td>-93.098092</td>\n",
       "      <td>-101.314432</td>\n",
       "      <td>-98.603131</td>\n",
       "    </tr>\n",
       "    <tr>\n",
       "      <th>186</th>\n",
       "      <td>-99.999999</td>\n",
       "      <td>-100.000000</td>\n",
       "      <td>-93.098093</td>\n",
       "      <td>-101.314433</td>\n",
       "      <td>-98.603131</td>\n",
       "    </tr>\n",
       "    <tr>\n",
       "      <th>1257</th>\n",
       "      <td>-99.999999</td>\n",
       "      <td>-100.000000</td>\n",
       "      <td>-93.098092</td>\n",
       "      <td>-101.314434</td>\n",
       "      <td>-98.603131</td>\n",
       "    </tr>\n",
       "    <tr>\n",
       "      <th>1310</th>\n",
       "      <td>-100.000000</td>\n",
       "      <td>-100.000000</td>\n",
       "      <td>-93.098093</td>\n",
       "      <td>-101.314432</td>\n",
       "      <td>-98.603131</td>\n",
       "    </tr>\n",
       "  </tbody>\n",
       "</table>\n",
       "<p>1950 rows × 5 columns</p>\n",
       "</div>"
      ],
      "text/plain": [
       "      DeepCNNSiLU_9L_IxG_p_deviation  DeepCNNSiLU_9L_IG_p_deviation  \\\n",
       "1                      108630.418451                  111589.502189   \n",
       "2                       90879.359834                  106871.477130   \n",
       "0                       -5586.654026                  -16104.926244   \n",
       "5                        -100.416358                    -100.089719   \n",
       "4                        -100.524661                    -100.317938   \n",
       "...                              ...                            ...   \n",
       "1104                     -100.000000                    -100.000000   \n",
       "649                      -100.000000                    -100.000000   \n",
       "186                       -99.999999                    -100.000000   \n",
       "1257                      -99.999999                    -100.000000   \n",
       "1310                     -100.000000                    -100.000000   \n",
       "\n",
       "      DeepCNNSiLU_9L_Saliency_p_deviation  \\\n",
       "1                            38129.820318   \n",
       "2                            33046.346250   \n",
       "0                            30084.839963   \n",
       "5                            19457.035362   \n",
       "4                            25640.985372   \n",
       "...                                   ...   \n",
       "1104                           -93.098092   \n",
       "649                            -93.098092   \n",
       "186                            -93.098093   \n",
       "1257                           -93.098092   \n",
       "1310                           -93.098093   \n",
       "\n",
       "      DeepCNNSiLU_9L_LayerGradCam_p_deviation  mean_deviation  \n",
       "1                                89029.744400    86844.871340  \n",
       "2                                23186.649679    63495.958223  \n",
       "0                                50252.049814    14661.327377  \n",
       "5                                17150.031932     9101.640304  \n",
       "4                                10052.639619     8873.195598  \n",
       "...                                       ...             ...  \n",
       "1104                              -101.314432      -98.603131  \n",
       "649                               -101.314432      -98.603131  \n",
       "186                               -101.314433      -98.603131  \n",
       "1257                              -101.314434      -98.603131  \n",
       "1310                              -101.314432      -98.603131  \n",
       "\n",
       "[1950 rows x 5 columns]"
      ]
     },
     "execution_count": 5,
     "metadata": {},
     "output_type": "execute_result"
    }
   ],
   "source": [
    "p_deviation = pd.DataFrame() \n",
    "\n",
    "for column in df.columns:\n",
    "    if column == 'feature':\n",
    "        \n",
    "        continue\n",
    "    \n",
    "    mean = df[column].mean()\n",
    "    p_deviation[f'{column}_p_deviation'] = (((df[column] - mean) / mean) * 100) # считаем процентное среднее\n",
    "    \n",
    "p_deviation['mean_deviation'] = p_deviation.mean(axis=1)\n",
    "\n",
    "features_range = p_deviation.sort_values(by='mean_deviation', ascending=False)\n",
    "features_range"
   ]
  },
  {
   "cell_type": "code",
   "execution_count": 6,
   "metadata": {
    "execution": {
     "iopub.execute_input": "2024-04-24T15:26:35.260713Z",
     "iopub.status.busy": "2024-04-24T15:26:35.260468Z",
     "iopub.status.idle": "2024-04-24T15:26:35.266753Z",
     "shell.execute_reply": "2024-04-24T15:26:35.265913Z",
     "shell.execute_reply.started": "2024-04-24T15:26:35.260692Z"
    },
    "id": "3-GkFjVShNxT"
   },
   "outputs": [],
   "source": [
    "def chrom_reader(chrom):\n",
    "    files = sorted([i for i in os.listdir(f'z_dna/hg38_dna/') if f\"{chrom}_\" in i])\n",
    "    return ''.join([load(f\"z_dna/hg38_dna/{file}\") for file in files])"
   ]
  },
  {
   "cell_type": "code",
   "execution_count": 7,
   "metadata": {
    "colab": {
     "base_uri": "https://localhost:8080/",
     "height": 81,
     "referenced_widgets": [
      "30c66ee530264946a29fa175f5dc395a",
      "6b17242e9ce045d69ba2ff8f0b93e65e",
      "9a23ba68d79845899788fee7f11d1bf5",
      "1bfb3429d411411796fea6585fe69e24",
      "3deba33d23a24057a7a4127ae4249fe6",
      "de9227727e23401e9b91b4173dbae392",
      "89d6d904deb74f00ab2949c79f218e77",
      "d9c22f02365845a2852077f007e3f344",
      "f34beffbbbfc4f1ea38bd935f44478a4",
      "6b20cb04e2604cc989fc2308edf7bdd5",
      "2d025ce39b064205b54955da4c272fff",
      "d39562c817494af5a79eaf46b7fd44df",
      "0a95d6e597ab46ccad571cf1b2b7da36",
      "e2b61d0d00064b20bd5175a12107e385",
      "e44e00d909aa46588486eca8b7bb69c8",
      "3b59b59de28a4e49884a98fe65a49a49",
      "9e114d0358cf4fa4a293a3873f99a55b",
      "5753d900327245239e98715908df2b57",
      "3621bdd1cb3e4b12b610156a90100167",
      "0896b7648d1d4bc987eae0149dc9dfa5",
      "e587412606ea44e99b63b4b66b7dc78d",
      "0a85ad8804a944b99ecfba320c5e1584"
     ]
    },
    "execution": {
     "iopub.execute_input": "2024-04-24T15:26:35.268161Z",
     "iopub.status.busy": "2024-04-24T15:26:35.267890Z",
     "iopub.status.idle": "2024-04-24T15:26:55.748141Z",
     "shell.execute_reply": "2024-04-24T15:26:55.747177Z",
     "shell.execute_reply.started": "2024-04-24T15:26:35.268140Z"
    },
    "id": "p3QZ6rDQhNxU",
    "outputId": "24344b24-d226-4442-e612-1bddff0afc5c"
   },
   "outputs": [
    {
     "data": {
      "application/vnd.jupyter.widget-view+json": {
       "model_id": "23fccedba07948239277f39be2ce219c",
       "version_major": 2,
       "version_minor": 0
      },
      "text/plain": [
       "  0%|          | 0/25 [00:00<?, ?it/s]"
      ]
     },
     "metadata": {},
     "output_type": "display_data"
    },
    {
     "data": {
      "application/vnd.jupyter.widget-view+json": {
       "model_id": "61309901c0fa4485bc9aff91f02c37d3",
       "version_major": 2,
       "version_minor": 0
      },
      "text/plain": [
       "  0%|          | 0/1946 [00:00<?, ?it/s]"
      ]
     },
     "metadata": {},
     "output_type": "display_data"
    },
    {
     "name": "stdout",
     "output_type": "stream",
     "text": [
      "CPU times: user 53.3 s, sys: 5.05 s, total: 58.4 s\n",
      "Wall time: 57.9 s\n"
     ]
    }
   ],
   "source": [
    "%%time\n",
    "DNA = {chrom:chrom_reader(chrom) for chrom in tqdm(chrom_names)}\n",
    "#ZDNA = load('z_dna/hg38_zdna/sparse/ZDNA_shin.pkl')\n",
    "ZDNA = load('z_dna/hg38_zdna/sparse/ZDNA_cousine.pkl')\n",
    "\n",
    "#ZDNA = load('z_dna/hg38_zdna/sparse/ZDNA_cousine.pkl')\n",
    "\n",
    "DNA_features = {feature: load(f'z_dna/hg38_features/sparse/{feature}.pkl')\n",
    "                for feature in tqdm(feature_names)}"
   ]
  },
  {
   "cell_type": "code",
   "execution_count": 8,
   "metadata": {},
   "outputs": [],
   "source": [
    "from tqdm import tqdm\n",
    "import sys\n",
    "import time"
   ]
  },
  {
   "cell_type": "markdown",
   "metadata": {
    "id": "1Sf1QtmOhNxU"
   },
   "source": [
    "# Data selection "
   ]
  },
  {
   "cell_type": "code",
   "execution_count": 9,
   "metadata": {
    "execution": {
     "iopub.execute_input": "2024-04-24T15:27:01.613133Z",
     "iopub.status.busy": "2024-04-24T15:27:01.612317Z",
     "iopub.status.idle": "2024-04-24T15:27:01.623565Z",
     "shell.execute_reply": "2024-04-24T15:27:01.622605Z",
     "shell.execute_reply.started": "2024-04-24T15:27:01.613100Z"
    },
    "id": "yN3FN3CdmHlM"
   },
   "outputs": [],
   "source": [
    "from torch.utils import data\n",
    "\n",
    "class Dataset(data.Dataset):\n",
    "    def __init__(self, chroms, features,\n",
    "                 dna_source, features_source,\n",
    "                 labels_source, intervals, lrp_feat=[]):\n",
    "        self.chroms = chroms\n",
    "        self.features = features\n",
    "        self.dna_source = dna_source\n",
    "        self.features_source = features_source\n",
    "        self.labels_source = labels_source\n",
    "        self.intervals = intervals\n",
    "        self.le = LabelBinarizer().fit(np.array([[\"A\"], [\"C\"], [\"T\"], [\"G\"]]))\n",
    "        self.lrp_feat = lrp_feat\n",
    "\n",
    "    def __len__(self):\n",
    "        return len(self.intervals)\n",
    "\n",
    "    def __getitem__(self, index):\n",
    "        interval = self.intervals[index]\n",
    "        chrom = interval[0]\n",
    "        begin = int(interval[1])\n",
    "        end = int(interval[2])\n",
    "        dna_OHE = self.le.transform(list(self.dna_source[chrom][begin:end].upper()))\n",
    "\n",
    "        feature_matr = []\n",
    "        for feature in self.features:\n",
    "            source = self.features_source[feature]\n",
    "            feature_matr.append(source[chrom][begin:end])\n",
    "        if len(feature_matr) > 0:\n",
    "            X = np.hstack((dna_OHE, np.array(feature_matr).T/1000)).astype(np.float32)\n",
    "        else:\n",
    "            X = dna_OHE.astype(np.float32)\n",
    "        y = self.labels_source[interval[0]][interval[1]: interval[2]]\n",
    "        if len(self.lrp_feat) > 0:\n",
    "            X = X[:,np.sort(lrp_feat)]\n",
    "\n",
    "        return (X, y)\n",
    "\n"
   ]
  },
  {
   "cell_type": "code",
   "execution_count": 10,
   "metadata": {
    "colab": {
     "base_uri": "https://localhost:8080/"
    },
    "execution": {
     "iopub.execute_input": "2024-04-24T15:27:04.109555Z",
     "iopub.status.busy": "2024-04-24T15:27:04.108675Z",
     "iopub.status.idle": "2024-04-24T15:28:17.703134Z",
     "shell.execute_reply": "2024-04-24T15:28:17.701904Z",
     "shell.execute_reply.started": "2024-04-24T15:27:04.109525Z"
    },
    "id": "WBhc2VmthNxV",
    "outputId": "4149940f-c39a-403b-f6d7-467b771879cc"
   },
   "outputs": [
    {
     "name": "stderr",
     "output_type": "stream",
     "text": [
      "100%|██████████████████████████████████████████████████████████████████████| 2489564/2489564 [00:41<00:00, 60233.03it/s]\n",
      "100%|██████████████████████████████████████████████████████████████████████| 2421935/2421935 [00:39<00:00, 61886.21it/s]\n",
      "100%|██████████████████████████████████████████████████████████████████████| 1982955/1982955 [00:32<00:00, 61921.37it/s]\n",
      "100%|██████████████████████████████████████████████████████████████████████| 1902145/1902145 [00:31<00:00, 61253.55it/s]\n",
      "100%|██████████████████████████████████████████████████████████████████████| 1815382/1815382 [00:30<00:00, 60437.04it/s]\n",
      "100%|██████████████████████████████████████████████████████████████████████| 1708059/1708059 [00:27<00:00, 62530.76it/s]\n",
      "100%|██████████████████████████████████████████████████████████████████████| 1593459/1593459 [00:27<00:00, 58964.12it/s]\n",
      "100%|██████████████████████████████████████████████████████████████████████| 1451386/1451386 [00:23<00:00, 62072.66it/s]\n",
      "100%|██████████████████████████████████████████████████████████████████████| 1383947/1383947 [00:23<00:00, 58377.98it/s]\n",
      "100%|██████████████████████████████████████████████████████████████████████| 1337974/1337974 [00:21<00:00, 62610.77it/s]\n",
      "100%|██████████████████████████████████████████████████████████████████████| 1350866/1350866 [00:21<00:00, 63196.16it/s]\n",
      "100%|██████████████████████████████████████████████████████████████████████| 1332753/1332753 [00:23<00:00, 57491.39it/s]\n",
      "100%|██████████████████████████████████████████████████████████████████████| 1143643/1143643 [00:18<00:00, 62575.66it/s]\n",
      "100%|██████████████████████████████████████████████████████████████████████| 1070437/1070437 [00:17<00:00, 62643.18it/s]\n",
      "100%|██████████████████████████████████████████████████████████████████████| 1019911/1019911 [00:16<00:00, 63080.38it/s]\n",
      "100%|████████████████████████████████████████████████████████████████████████| 903383/903383 [00:14<00:00, 62928.58it/s]\n",
      "100%|████████████████████████████████████████████████████████████████████████| 832574/832574 [00:13<00:00, 62660.78it/s]\n",
      "100%|████████████████████████████████████████████████████████████████████████| 803732/803732 [00:15<00:00, 53145.02it/s]\n",
      "100%|████████████████████████████████████████████████████████████████████████| 586176/586176 [00:09<00:00, 62729.15it/s]\n",
      "100%|████████████████████████████████████████████████████████████████████████| 644441/644441 [00:10<00:00, 63674.72it/s]\n",
      "100%|████████████████████████████████████████████████████████████████████████| 467099/467099 [00:07<00:00, 63339.82it/s]\n",
      "100%|████████████████████████████████████████████████████████████████████████| 508184/508184 [00:08<00:00, 62848.57it/s]\n",
      "100%|██████████████████████████████████████████████████████████████████████| 1560408/1560408 [00:24<00:00, 63704.78it/s]\n",
      "100%|████████████████████████████████████████████████████████████████████████| 572274/572274 [00:09<00:00, 61986.31it/s]\n",
      "100%|██████████████████████████████████████████████████████████████████████████████| 165/165 [00:00<00:00, 51070.78it/s]\n"
     ]
    }
   ],
   "source": [
    "width = 100\n",
    "\n",
    "np.random.seed(10)\n",
    "\n",
    "ints_in = []\n",
    "ints_out = []\n",
    "\n",
    "for chrm in chrom_names:\n",
    "    for st in trange(0, ZDNA[chrm].shape - width, width):\n",
    "        interval = [st, min(st + width, ZDNA[chrm].shape)]\n",
    "        if ZDNA[chrm][interval[0]: interval[1]].any():\n",
    "            ints_in.append([chrm, interval[0], interval[1]])\n",
    "        else:\n",
    "            ints_out.append([chrm, interval[0], interval[1]])\n",
    "\n",
    "ints_in = np.array(ints_in)\n",
    "ints_out = np.array(ints_out)[np.random.choice(range(len(ints_out)), size=len(ints_in) * 2, replace=False)]"
   ]
  },
  {
   "cell_type": "code",
   "execution_count": 11,
   "metadata": {
    "execution": {
     "iopub.execute_input": "2024-04-24T15:28:17.705426Z",
     "iopub.status.busy": "2024-04-24T15:28:17.705115Z",
     "iopub.status.idle": "2024-04-24T15:28:17.723751Z",
     "shell.execute_reply": "2024-04-24T15:28:17.723007Z",
     "shell.execute_reply.started": "2024-04-24T15:28:17.705399Z"
    },
    "id": "jgZScEFOhNxV"
   },
   "outputs": [
    {
     "name": "stdout",
     "output_type": "stream",
     "text": [
      "['1_chr1' '1_chr1' '1_chr1' ... '0_chr18' '0_chr8' '0_chr6']\n"
     ]
    }
   ],
   "source": [
    "from sklearn.model_selection import StratifiedShuffleSplit\n",
    "np.random.seed(42)\n",
    "equalized = np.vstack((ints_in, ints_out))\n",
    "equalized = [[inter[0], int(inter[1]), int(inter[2])] for inter in equalized]\n",
    "\n",
    "labels = np.array([1]*len(ints_in) + [0]*len(ints_out))\n",
    "chromes = [inter[0] for inter in equalized]\n",
    "strat_labels = np.array([f\"{label}_{chrom}\" for label, chrom in zip(labels, chromes)])\n",
    "print(strat_labels)\n",
    "  \n",
    "sss = StratifiedShuffleSplit(n_splits=1, test_size=0.2, random_state=42)\n",
    "train_inds, test_inds = next(sss.split(equalized, strat_labels))\n",
    "  \n",
    "train_intervals, test_intervals = [equalized[i] for i in train_inds], [equalized[i] for i in test_inds]"
   ]
  },
  {
   "cell_type": "code",
   "execution_count": 10,
   "metadata": {
    "execution": {
     "iopub.execute_input": "2024-04-24T16:14:52.267797Z",
     "iopub.status.busy": "2024-04-24T16:14:52.267000Z",
     "iopub.status.idle": "2024-04-24T16:14:52.272668Z",
     "shell.execute_reply": "2024-04-24T16:14:52.271642Z",
     "shell.execute_reply.started": "2024-04-24T16:14:52.267756Z"
    }
   },
   "outputs": [],
   "source": [
    "params = {'batch_size':32,\n",
    "          'num_workers':4,\n",
    "          'shuffle':True}\n",
    "\n",
    "train_dataset = Dataset(chrom_names, feature_names, \n",
    "                       DNA, DNA_features, \n",
    "                       ZDNA, train_intervals, lrp_feat = [])\n",
    "\n",
    "test_dataset = Dataset(chrom_names, feature_names, \n",
    "                       DNA, DNA_features, \n",
    "                       ZDNA, test_intervals, lrp_feat = [])\n",
    "\n",
    "loader_train = data.DataLoader(train_dataset, **params)\n",
    "loader_test = data.DataLoader(test_dataset, **params)"
   ]
  },
  {
   "cell_type": "markdown",
   "metadata": {},
   "source": [
    "# All models"
   ]
  },
  {
   "cell_type": "code",
   "execution_count": 12,
   "metadata": {
    "execution": {
     "iopub.execute_input": "2024-04-24T15:28:21.864740Z",
     "iopub.status.busy": "2024-04-24T15:28:21.863883Z",
     "iopub.status.idle": "2024-04-24T15:28:21.869445Z",
     "shell.execute_reply": "2024-04-24T15:28:21.868438Z",
     "shell.execute_reply.started": "2024-04-24T15:28:21.864708Z"
    }
   },
   "outputs": [],
   "source": [
    "from torch import nn\n",
    "import torch.nn.functional as F\n",
    "from sklearn.metrics import roc_auc_score, f1_score, average_precision_score, recall_score\n",
    "from IPython.display import clear_output"
   ]
  },
  {
   "cell_type": "code",
   "execution_count": 13,
   "metadata": {},
   "outputs": [],
   "source": [
    "from torch import nn\n",
    "import torch.nn.functional as F\n",
    "from sklearn.metrics import roc_auc_score, f1_score\n",
    "from IPython.display import clear_output\n",
    "\n",
    "class DeepCNNSiLU_9L(nn.Module):\n",
    "    def __init__(self, top_count):\n",
    "        super().__init__()\n",
    "        self.seq = nn.Sequential(\n",
    "            \n",
    "            nn.Conv2d(1, 3, kernel_size=(3, 3), padding=1),\n",
    "            nn.LayerNorm([3, 100, top_count]),\n",
    "            nn.SiLU(),\n",
    "            \n",
    "            nn.Conv2d(3, 5, kernel_size=(5, 5), padding=2),\n",
    "            nn.LayerNorm([5, 100, top_count]),\n",
    "            nn.SiLU(),\n",
    "            \n",
    "            nn.Conv2d(5, 7, kernel_size=(5, 5), padding=2),\n",
    "            nn.LayerNorm([7, 100, top_count]),\n",
    "            nn.SiLU(),\n",
    "            \n",
    "            nn.Conv2d(7, 9, kernel_size=(5, 5), padding=2),\n",
    "            nn.LayerNorm([9, 100, top_count]),\n",
    "            nn.SiLU(),\n",
    "            \n",
    "            nn.Conv2d(9, 9, kernel_size=(5, 5), padding=2),\n",
    "            nn.SiLU(),\n",
    "            \n",
    "            nn.Conv2d(9, 7, kernel_size=(5, 5), padding=2),\n",
    "            nn.LayerNorm([7, 100, top_count]),\n",
    "            nn.SiLU(),\n",
    "            \n",
    "            nn.Conv2d(7, 5, kernel_size=(5, 5), padding=2),\n",
    "            nn.LayerNorm([5, 100, top_count]),\n",
    "            nn.SiLU(),\n",
    "            \n",
    "            nn.Conv2d(5, 3, kernel_size=(5, 5), padding=2),\n",
    "            nn.LayerNorm([3, 100, top_count]),\n",
    "            nn.SiLU(),\n",
    "            \n",
    "            nn.Conv2d(3, 1, kernel_size=(3, 3), padding=1),\n",
    "            nn.LayerNorm([1, 100, top_count]),  # Укажите размеры после свертки\n",
    "            nn.SiLU(),\n",
    "            \n",
    "            nn.Linear(top_count, 500),\n",
    "            nn.SiLU(),\n",
    "            \n",
    "            nn.Linear(500, 2)\n",
    "        )\n",
    "\n",
    "    def forward(self, x):\n",
    "        batch = x.shape[0]\n",
    "        x = x.reshape(batch, 1, width, top_count)\n",
    "        x = self.seq(x)\n",
    "        x = torch.squeeze(x)\n",
    "        x = F.log_softmax(x, dim=-1)\n",
    "        return x"
   ]
  },
  {
   "cell_type": "markdown",
   "metadata": {
    "id": "M7fIJ6KJhNxW"
   },
   "source": [
    "# Train and test"
   ]
  },
  {
   "cell_type": "code",
   "execution_count": 14,
   "metadata": {},
   "outputs": [],
   "source": [
    "import time\n",
    "from sklearn.metrics import roc_auc_score, f1_score, precision_score, recall_score\n",
    "\n",
    "def loss_func(output, y_batch):\n",
    "    return torch.nn.NLLLoss()(output, y_batch)\n",
    "\n",
    "\n",
    "def train_epoch(model, optimizer, loader_train):\n",
    "    roc_auc_log, precision_log, recall_log, f1_log, acc_log, loss_log = [], [], [], [], [], []\n",
    "    model.train()\n",
    "    for X_batch, y_batch in tqdm(loader_train, desc='Train') :\n",
    "        X_batch, y_batch = X_batch.cuda(), y_batch.cuda().long()\n",
    "        optimizer.zero_grad()\n",
    "        \n",
    "        output = model(X_batch)\n",
    "        \n",
    "        pred = torch.argmax(output, dim=-1)\n",
    "        y_pred = nn.Softmax(dim=-1)(output)[..., 1].detach().cpu().numpy().flatten()\n",
    "        \n",
    "        if np.std(y_batch.cpu().numpy().flatten()) == 0:\n",
    "            roc_auc = 0\n",
    "            precision = 0\n",
    "            recall = 0\n",
    "        else:\n",
    "            roc_auc = roc_auc_score(y_batch.cpu().numpy().flatten(),\n",
    "                                    y_pred)\n",
    "            precision = precision_score(y_batch.cpu().numpy().flatten(), pred.cpu().numpy().flatten())\n",
    "            recall = recall_score(y_batch.cpu().numpy().flatten(), pred.cpu().numpy().flatten())\n",
    "        \n",
    "        \n",
    "        roc_auc_log.append(roc_auc)\n",
    "        precision_log.append(precision)\n",
    "        recall_log.append(recall)\n",
    "        \n",
    "        \n",
    "        f1_log.append(f1_score(y_batch.cpu().numpy().flatten(),\n",
    "                         pred.cpu().numpy().flatten()))\n",
    "\n",
    "        acc = torch.mean((pred == y_batch).float())\n",
    "        acc_log.append(acc.cpu().numpy())\n",
    "        \n",
    "        loss = loss_func(output.permute([0, 2, 1]), y_batch)\n",
    "        loss.backward()\n",
    "        optimizer.step()\n",
    "        loss = loss.item()\n",
    "        loss_log.append(loss)\n",
    "        \n",
    "    return roc_auc_log, precision_log, recall_log, f1_log, acc_log, loss_log\n",
    "\n",
    "def test(model, loader_test):\n",
    "    roc_auc_log, precision_log, recall_log, f1_log, acc_log, loss_log = [], [], [], [], [], []\n",
    "    model.eval()\n",
    "    means = []\n",
    "    for X_batch, y_batch in tqdm(loader_test, desc='Test'):\n",
    "        X_batch, y_batch = X_batch.cuda(), y_batch.cuda().long()\n",
    "        output = model(X_batch)\n",
    "        means.append(y_batch.sum().cpu() / (1.0 * y_batch.shape[0]))\n",
    "        \n",
    "        pred = torch.argmax(output, dim=-1)\n",
    "        y_pred = nn.Softmax(dim=-1)(output)[..., 1].detach().cpu().numpy().flatten()\n",
    "        \n",
    "        if np.std(y_batch.cpu().numpy().flatten()) == 0:\n",
    "            roc_auc = 0\n",
    "            precision = 0\n",
    "            recall = 0\n",
    "        else:\n",
    "            roc_auc = roc_auc_score(y_batch.cpu().numpy().flatten(),\n",
    "                                    y_pred)\n",
    "            precision = precision_score(y_batch.cpu().numpy().flatten(), pred.cpu().numpy().flatten())\n",
    "            recall = recall_score(y_batch.cpu().numpy().flatten(), pred.cpu().numpy().flatten())\n",
    "        \n",
    "        \n",
    "        roc_auc_log.append(roc_auc)\n",
    "        precision_log.append(precision)\n",
    "        recall_log.append(recall)\n",
    "        \n",
    "        f1 = f1_score(y_batch.cpu().numpy().flatten(),\n",
    "                                  pred.cpu().numpy().flatten())\n",
    "        \n",
    "        f1_log.append(f1)\n",
    "        \n",
    "        acc = torch.mean((pred == y_batch).float())\n",
    "        acc_log.append(acc.cpu().numpy())\n",
    "        \n",
    "        if output.dim() == 2:  \n",
    "            output = output.unsqueeze(0)\n",
    "        loss = loss_func(output.permute([0, 2, 1]), y_batch)\n",
    "        loss = loss.item()\n",
    "        loss_log.append(loss)\n",
    "        \n",
    "    return roc_auc_log, precision_log, recall_log, f1_log, acc_log, loss_log\n",
    "\n",
    "def plot_history(train_history, valid_history, title, BatchSize, epoch_to_show=20):\n",
    "    plt.figure(figsize=(epoch_to_show, 4))\n",
    "    plt.title(title)    \n",
    "    \n",
    "    epoch_num = len(valid_history)\n",
    "    train_history = np.array([None] * (BatchSize * epoch_to_show) + train_history)\n",
    "    valid_history = np.array([None] * epoch_to_show + valid_history)\n",
    "    \n",
    "    plt.plot(np.linspace(epoch_num-epoch_to_show+1, epoch_num+1, (epoch_to_show+1)*BatchSize), \n",
    "             train_history[-(epoch_to_show+1)*BatchSize:], c='red', label='train')\n",
    "    plt.plot(np.linspace(epoch_num-epoch_to_show+1, epoch_num+1, epoch_to_show+1),\n",
    "                valid_history[-epoch_to_show-1:], c='green', label='test')\n",
    "    \n",
    "    plt.ylim((0, 1))\n",
    "    plt.yticks(np.linspace(0, 1, 11))\n",
    "    plt.xticks(np.arange(epoch_num-epoch_to_show+1, epoch_num+2), \n",
    "              np.arange(epoch_num-epoch_to_show, epoch_num+1).astype(int))\n",
    "    plt.xlabel('train steps')\n",
    "    plt.legend(loc='best')\n",
    "    plt.grid()\n",
    "    plt.show()\n",
    "    \n",
    "def train(model, opt, n_epochs, loader_train, loader_test):\n",
    "    train_auc_log, train_pr_log, train_rec_log, train_f1_log, train_acc_log, train_loss_log = [], [], [], [], [], []\n",
    "    val_auc_log, val_pr_log, val_rec_log, val_f1_log, val_acc_log, val_loss_log = [], [], [], [], [], []\n",
    "    times = []\n",
    "    \n",
    "    for epoch in range(n_epochs):\n",
    "        print(\"Epoch {} of {}\".format(epoch + 1, n_epochs))\n",
    "        \n",
    "        start_time = time.time()\n",
    "        \n",
    "        train_auc, train_pr, train_rec, train_f1, train_acc, train_loss = train_epoch(model, opt, loader_train)\n",
    "        val_auc, val_pr, val_rec, val_f1, val_acc, val_loss = test(model, loader_test)\n",
    "        \n",
    "        end_time = time.time()\n",
    "        t = end_time - start_time\n",
    "        times.append(t)\n",
    "        \n",
    "        BatchSize = len(train_loss)\n",
    "        \n",
    "        train_auc_log.extend(train_auc)\n",
    "        train_pr_log.extend(train_pr)\n",
    "        train_rec_log.extend(train_rec)\n",
    "        train_f1_log.extend(train_f1)\n",
    "        train_acc_log.extend(train_acc)\n",
    "        train_loss_log.extend(train_loss)\n",
    "\n",
    "        val_auc_log.append(np.mean(val_auc))\n",
    "        val_pr_log.append(np.mean(val_pr))\n",
    "        val_rec_log.append(np.mean(val_rec))\n",
    "        val_f1_log.append(np.mean(val_f1))\n",
    "        val_acc_log.append(np.mean(val_acc))\n",
    "        val_loss_log.append(np.mean(val_loss))\n",
    "        \n",
    "#         raise BaseException\n",
    "        clear_output()\n",
    "        plot_history(train_loss_log, val_loss_log, 'Loss', len(train_loss), n_epochs)\n",
    "        plot_history(train_auc_log, val_auc_log, 'Auc', len(train_loss), n_epochs)\n",
    "        plot_history(train_pr_log, val_pr_log, 'Precision', len(train_loss), n_epochs)\n",
    "        plot_history(train_rec_log, val_rec_log, 'Recall', len(train_loss), n_epochs)\n",
    "        plot_history(train_f1_log, val_f1_log, 'F1', len(train_loss), n_epochs)\n",
    "        print(\"Time: \", t/60)\n",
    "        print(\"Epoch {}: ROC-AUC = {:.2%}\".format(epoch+1, val_auc_log[-1]))\n",
    "        print(\"Epoch {}: Precision = {:.3}\".format(epoch+1, val_pr_log[-1]))\n",
    "        print(\"Epoch {}: Recall = {:.3}\".format(epoch+1, val_rec_log[-1]))\n",
    "        print(\"Epoch {}: F1-score = {:.3}\".format(epoch+1, val_f1_log[-1]))\n",
    "            \n",
    "           \n",
    "    print(\"Final ROC-AUC = {:.4}\".format(val_auc_log[-1]))\n",
    "    print(\"Final Precision = {:.3}\".format(val_pr_log[-1]))\n",
    "    print(\"Final Recall = {:.3}\".format(val_rec_log[-1]))\n",
    "    print(\"Final F1-score = {:.3}\".format(val_f1_log[-1]))\n",
    "    return val_auc_log, val_pr_log, val_rec_log, val_f1_log, val_acc_log, val_loss_log, times    "
   ]
  },
  {
   "cell_type": "markdown",
   "metadata": {},
   "source": [
    "# Запуск 700"
   ]
  },
  {
   "cell_type": "code",
   "execution_count": 20,
   "metadata": {},
   "outputs": [
    {
     "name": "stderr",
     "output_type": "stream",
     "text": [
      "100%|███████████████████████████████████████████████████████████████████████████████████| 25/25 [00:01<00:00, 16.17it/s]\n",
      "100%|█████████████████████████████████████████████████████████████████████████████████| 700/700 [00:20<00:00, 34.94it/s]\n"
     ]
    }
   ],
   "source": [
    "top_count = 704  # TODO вставить эту ячейку в свой код cnn\n",
    "\n",
    "features_top = features_range.iloc[:top_count].index.tolist()\n",
    "features = [i[:-4] for i in os.listdir('z_dna/hg38_features/sparse/') if i.endswith('_2.pkl')]\n",
    "\n",
    "top = []\n",
    "for index in features_top:\n",
    "    if index in [0, 1, 2, 3]:\n",
    "        continue\n",
    "        \n",
    "    index = index - 4\n",
    "    top.append(features[index])\n",
    "\n",
    "features = top\n",
    "feature_names = features\n",
    "\n",
    "DNA = {chrom:chrom_reader(chrom) for chrom in tqdm(chrom_names)}\n",
    "#ZDNA = load('z_dna/hg38_zdna/sparse/ZDNA_shin.pkl')\n",
    "ZDNA = load('z_dna/hg38_zdna/sparse/ZDNA_cousine.pkl')\n",
    "\n",
    "#ZDNA = load('z_dna/hg38_zdna/sparse/ZDNA_cousine.pkl')\n",
    "\n",
    "DNA_features = {feature: load(f'z_dna/hg38_features/sparse/{feature}.pkl') for feature in tqdm(feature_names)}\n",
    "\n",
    "params = {'batch_size':32,\n",
    "          'num_workers':4,\n",
    "          'shuffle':True}\n",
    "\n",
    "train_dataset = Dataset(chrom_names, feature_names, \n",
    "                       DNA, DNA_features, \n",
    "                       ZDNA, train_intervals, lrp_feat = [])\n",
    "\n",
    "test_dataset = Dataset(chrom_names, feature_names, \n",
    "                       DNA, DNA_features, \n",
    "                       ZDNA, test_intervals, lrp_feat = [])\n",
    "\n",
    "loader_train = data.DataLoader(train_dataset, **params)\n",
    "loader_test = data.DataLoader(test_dataset, **params)"
   ]
  },
  {
   "cell_type": "code",
   "execution_count": 21,
   "metadata": {},
   "outputs": [
    {
     "data": {
      "text/plain": [
       "700"
      ]
     },
     "execution_count": 21,
     "metadata": {},
     "output_type": "execute_result"
    }
   ],
   "source": [
    "len(feature_names)"
   ]
  },
  {
   "cell_type": "code",
   "execution_count": 22,
   "metadata": {},
   "outputs": [
    {
     "data": {
      "image/png": "[encoded data removed]",
      "text/plain": [
       "<Figure size 1000x400 with 1 Axes>"
      ]
     },
     "metadata": {},
     "output_type": "display_data"
    },
    {
     "data": {
      "image/png": "[encoded data removed]",
      "text/plain": [
       "<Figure size 1000x400 with 1 Axes>"
      ]
     },
     "metadata": {},
     "output_type": "display_data"
    },
    {
     "data": {
      "image/png": "[encoded data removed]",
      "text/plain": [
       "<Figure size 1000x400 with 1 Axes>"
      ]
     },
     "metadata": {},
     "output_type": "display_data"
    },
    {
     "data": {
      "image/png": "[encoded data removed]",
      "text/plain": [
       "<Figure size 1000x400 with 1 Axes>"
      ]
     },
     "metadata": {},
     "output_type": "display_data"
    },
    {
     "data": {
      "image/png": "[encoded data removed]",
      "text/plain": [
       "<Figure size 1000x400 with 1 Axes>"
      ]
     },
     "metadata": {},
     "output_type": "display_data"
    },
    {
     "name": "stdout",
     "output_type": "stream",
     "text": [
      "Time:  16.721775778134663\n",
      "Epoch 10: ROC-AUC = 99.49%\n",
      "Epoch 10: Precision = 0.9\n",
      "Epoch 10: Recall = 0.839\n",
      "Epoch 10: F1-score = 0.866\n",
      "Final ROC-AUC = 0.9949\n",
      "Final Precision = 0.9\n",
      "Final Recall = 0.839\n",
      "Final F1-score = 0.866\n",
      "CPU times: user 2h 8min 28s, sys: 38min 50s, total: 2h 47min 19s\n",
      "Wall time: 2h 47min 23s\n"
     ]
    }
   ],
   "source": [
    "%%time\n",
    "\n",
    "device = torch.device(f'cuda:{1}')\n",
    "with torch.cuda.device(device):\n",
    "    set_random_seed(42)\n",
    "    model = DeepCNNSiLU_9L(top_count)\n",
    "    model = model.to('cuda')\n",
    "\n",
    "    opt = torch.optim.Adam(model.parameters(), lr=10**-4, weight_decay=10**-4)\n",
    "\n",
    "    val_auc_log, val_pr_log, val_rec_log, val_f1_log, val_acc_log, val_loss_log, times = train(model, opt, 10, loader_train, loader_test)\n",
    "    "
   ]
  },
  {
   "cell_type": "code",
   "execution_count": 23,
   "metadata": {},
   "outputs": [
    {
     "name": "stdout",
     "output_type": "stream",
     "text": [
      "Epoch 9\n",
      "Max F1-score: 0.8729\n",
      "ROC-AUC: 0.9947\n",
      "Precision: 0.8702\n",
      "Recall: 0.8810\n",
      "Mean time for 1 epoch 16.72 minutes\n"
     ]
    }
   ],
   "source": [
    "print(\"Epoch {}\".format(np.argmax(val_f1_log) + 1))\n",
    "print(\"Max F1-score: {:.4f}\".format(val_f1_log[np.argmax(val_f1_log)]))\n",
    "print(\"ROC-AUC: {:.4f}\".format(val_auc_log[np.argmax(val_f1_log)]))\n",
    "print(\"Precision: {:.4f}\".format(val_pr_log[np.argmax(val_f1_log)]))\n",
    "print(\"Recall: {:.4f}\".format(val_rec_log[np.argmax(val_f1_log)]))\n",
    "\n",
    "print(\"Mean time for 1 epoch {:.2f} minutes\".format(np.mean(times) / 60))"
   ]
  },
  {
   "cell_type": "markdown",
   "metadata": {},
   "source": [
    "# 500"
   ]
  },
  {
   "cell_type": "code",
   "execution_count": 15,
   "metadata": {},
   "outputs": [
    {
     "name": "stderr",
     "output_type": "stream",
     "text": [
      "100%|███████████████████████████████████████████████████████████████████████████████████| 25/25 [00:03<00:00,  6.44it/s]\n",
      "100%|█████████████████████████████████████████████████████████████████████████████████| 500/500 [00:14<00:00, 33.39it/s]\n"
     ]
    }
   ],
   "source": [
    "top_count = 504  # TODO вставить эту ячейку в свой код cnn\n",
    "\n",
    "features_top = features_range.iloc[:top_count].index.tolist()\n",
    "features = [i[:-4] for i in os.listdir('z_dna/hg38_features/sparse/') if i.endswith('_2.pkl')]\n",
    "\n",
    "top = []\n",
    "for index in features_top:\n",
    "    if index in [0, 1, 2, 3]:\n",
    "        continue\n",
    "        \n",
    "    index = index - 4\n",
    "    top.append(features[index])\n",
    "\n",
    "features = top\n",
    "feature_names = features\n",
    "\n",
    "DNA = {chrom:chrom_reader(chrom) for chrom in tqdm(chrom_names)}\n",
    "#ZDNA = load('z_dna/hg38_zdna/sparse/ZDNA_shin.pkl')\n",
    "ZDNA = load('z_dna/hg38_zdna/sparse/ZDNA_cousine.pkl')\n",
    "\n",
    "#ZDNA = load('z_dna/hg38_zdna/sparse/ZDNA_cousine.pkl')\n",
    "\n",
    "DNA_features = {feature: load(f'z_dna/hg38_features/sparse/{feature}.pkl') for feature in tqdm(feature_names)}\n",
    "\n",
    "np.random.seed(42)\n",
    "params = {'batch_size':32,\n",
    "          'num_workers':4,\n",
    "          'shuffle':True}\n",
    "\n",
    "train_dataset = Dataset(chrom_names, feature_names, \n",
    "                       DNA, DNA_features, \n",
    "                       ZDNA, train_intervals, lrp_feat = [])\n",
    "\n",
    "test_dataset = Dataset(chrom_names, feature_names, \n",
    "                       DNA, DNA_features, \n",
    "                       ZDNA, test_intervals, lrp_feat = [])\n",
    "\n",
    "loader_train = data.DataLoader(train_dataset, **params)\n",
    "loader_test = data.DataLoader(test_dataset, **params)"
   ]
  },
  {
   "cell_type": "code",
   "execution_count": 16,
   "metadata": {},
   "outputs": [
    {
     "data": {
      "text/plain": [
       "500"
      ]
     },
     "execution_count": 16,
     "metadata": {},
     "output_type": "execute_result"
    }
   ],
   "source": [
    "len(feature_names)"
   ]
  },
  {
   "cell_type": "code",
   "execution_count": null,
   "metadata": {},
   "outputs": [
    {
     "data": {
      "image/png": "[encoded data removed]",
      "text/plain": [
       "<Figure size 1000x400 with 1 Axes>"
      ]
     },
     "metadata": {},
     "output_type": "display_data"
    },
    {
     "data": {
      "image/png": "[encoded data removed]",
      "text/plain": [
       "<Figure size 1000x400 with 1 Axes>"
      ]
     },
     "metadata": {},
     "output_type": "display_data"
    },
    {
     "data": {
      "image/png": "[encoded data removed]",
      "text/plain": [
       "<Figure size 1000x400 with 1 Axes>"
      ]
     },
     "metadata": {},
     "output_type": "display_data"
    },
    {
     "data": {
      "image/png": "[encoded data removed]",
      "text/plain": [
       "<Figure size 1000x400 with 1 Axes>"
      ]
     },
     "metadata": {},
     "output_type": "display_data"
    },
    {
     "data": {
      "image/png": "[encoded data removed]",
      "text/plain": [
       "<Figure size 1000x400 with 1 Axes>"
      ]
     },
     "metadata": {},
     "output_type": "display_data"
    },
    {
     "name": "stdout",
     "output_type": "stream",
     "text": [
      "Time:  10.037897062301635\n",
      "Epoch 1: ROC-AUC = 99.19%\n",
      "Epoch 1: Precision = 0.853\n",
      "Epoch 1: Recall = 0.831\n",
      "Epoch 1: F1-score = 0.838\n",
      "Epoch 2 of 10\n"
     ]
    },
    {
     "name": "stderr",
     "output_type": "stream",
     "text": [
      "Train:  62%|████████████████████████████████████████████▎                           | 2086/3391 [05:39<03:26,  6.32it/s]"
     ]
    }
   ],
   "source": [
    "%%time\n",
    "\n",
    "device = torch.device(f'cuda:{1}')\n",
    "with torch.cuda.device(device):\n",
    "    set_random_seed(42)\n",
    "    model = DeepCNNSiLU_9L(top_count)\n",
    "    model = model.to('cuda')\n",
    "\n",
    "    opt = torch.optim.Adam(model.parameters(), lr=10**-4, weight_decay=10**-4)\n",
    "\n",
    "    val_auc_log, val_pr_log, val_rec_log, val_f1_log, val_acc_log, val_loss_log, times = train(model, opt, 10, loader_train, loader_test)\n",
    "    "
   ]
  },
  {
   "cell_type": "code",
   "execution_count": null,
   "metadata": {},
   "outputs": [],
   "source": [
    "print(\"Epoch {}\".format(np.argmax(val_f1_log) + 1))\n",
    "print(\"Max F1-score: {:.4f}\".format(val_f1_log[np.argmax(val_f1_log)]))\n",
    "print(\"ROC-AUC: {:.4f}\".format(val_auc_log[np.argmax(val_f1_log)]))\n",
    "print(\"Precision: {:.4f}\".format(val_pr_log[np.argmax(val_f1_log)]))\n",
    "print(\"Recall: {:.4f}\".format(val_rec_log[np.argmax(val_f1_log)]))\n",
    "\n",
    "print(\"Mean time for 1 epoch {:.2f} minutes\".format(np.mean(times) / 60))"
   ]
  },
  {
   "cell_type": "markdown",
   "metadata": {},
   "source": [
    "# 300"
   ]
  },
  {
   "cell_type": "code",
   "execution_count": null,
   "metadata": {},
   "outputs": [],
   "source": [
    "top_count = 304  # TODO вставить эту ячейку в свой код cnn\n",
    "\n",
    "features_top = features_range.iloc[:top_count].index.tolist()\n",
    "features = [i[:-4] for i in os.listdir('z_dna/hg38_features/sparse/') if i.endswith('_2.pkl')]\n",
    "\n",
    "top = []\n",
    "for index in features_top:\n",
    "    if index in [0, 1, 2, 3]:\n",
    "        continue\n",
    "        \n",
    "    index = index - 4\n",
    "    top.append(features[index])\n",
    "\n",
    "features = top\n",
    "feature_names = features\n",
    "\n",
    "DNA = {chrom:chrom_reader(chrom) for chrom in tqdm(chrom_names)}\n",
    "#ZDNA = load('z_dna/hg38_zdna/sparse/ZDNA_shin.pkl')\n",
    "ZDNA = load('z_dna/hg38_zdna/sparse/ZDNA_cousine.pkl')\n",
    "\n",
    "#ZDNA = load('z_dna/hg38_zdna/sparse/ZDNA_cousine.pkl')\n",
    "\n",
    "DNA_features = {feature: load(f'z_dna/hg38_features/sparse/{feature}.pkl') for feature in tqdm(feature_names)}\n",
    "\n",
    "np.random.seed(42)\n",
    "params = {'batch_size':32,\n",
    "          'num_workers':4,\n",
    "          'shuffle':True}\n",
    "\n",
    "train_dataset = Dataset(chrom_names, feature_names, \n",
    "                       DNA, DNA_features, \n",
    "                       ZDNA, train_intervals, lrp_feat = [])\n",
    "\n",
    "test_dataset = Dataset(chrom_names, feature_names, \n",
    "                       DNA, DNA_features, \n",
    "                       ZDNA, test_intervals, lrp_feat = [])\n",
    "\n",
    "loader_train = data.DataLoader(train_dataset, **params)\n",
    "loader_test = data.DataLoader(test_dataset, **params)"
   ]
  },
  {
   "cell_type": "code",
   "execution_count": null,
   "metadata": {},
   "outputs": [],
   "source": [
    "len(feature_names)"
   ]
  },
  {
   "cell_type": "code",
   "execution_count": null,
   "metadata": {},
   "outputs": [],
   "source": [
    "%%time\n",
    "\n",
    "device = torch.device(f'cuda:{1}')\n",
    "with torch.cuda.device(device):\n",
    "    set_random_seed(42)\n",
    "    model = DeepCNNSiLU_9L(top_count)\n",
    "    model = model.to('cuda')\n",
    "\n",
    "    opt = torch.optim.Adam(model.parameters(), lr=10**-4, weight_decay=10**-4)\n",
    "\n",
    "    val_auc_log, val_pr_log, val_rec_log, val_f1_log, val_acc_log, val_loss_log, times = train(model, opt, 10, loader_train, loader_test)\n",
    "    "
   ]
  },
  {
   "cell_type": "code",
   "execution_count": null,
   "metadata": {},
   "outputs": [],
   "source": [
    "print(\"Epoch {}\".format(np.argmax(val_f1_log) + 1))\n",
    "print(\"Max F1-score: {:.4f}\".format(val_f1_log[np.argmax(val_f1_log)]))\n",
    "print(\"ROC-AUC: {:.4f}\".format(val_auc_log[np.argmax(val_f1_log)]))\n",
    "print(\"Precision: {:.4f}\".format(val_pr_log[np.argmax(val_f1_log)]))\n",
    "print(\"Recall: {:.4f}\".format(val_rec_log[np.argmax(val_f1_log)]))\n",
    "\n",
    "print(\"Mean time for 1 epoch {:.2f} minutes\".format(np.mean(times) / 60))"
   ]
  },
  {
   "cell_type": "markdown",
   "metadata": {},
   "source": [
    "# 150"
   ]
  },
  {
   "cell_type": "code",
   "execution_count": null,
   "metadata": {},
   "outputs": [],
   "source": [
    "top_count = 154  # TODO вставить эту ячейку в свой код cnn\n",
    "\n",
    "features_top = features_range.iloc[:top_count].index.tolist()\n",
    "features = [i[:-4] for i in os.listdir('z_dna/hg38_features/sparse/') if i.endswith('_2.pkl')]\n",
    "\n",
    "top = []\n",
    "for index in features_top:\n",
    "    if index in [0, 1, 2, 3]:\n",
    "        continue\n",
    "        \n",
    "    index = index - 4\n",
    "    top.append(features[index])\n",
    "\n",
    "features = top\n",
    "feature_names = features\n",
    "\n",
    "DNA = {chrom:chrom_reader(chrom) for chrom in tqdm(chrom_names)}\n",
    "#ZDNA = load('z_dna/hg38_zdna/sparse/ZDNA_shin.pkl')\n",
    "ZDNA = load('z_dna/hg38_zdna/sparse/ZDNA_cousine.pkl')\n",
    "\n",
    "#ZDNA = load('z_dna/hg38_zdna/sparse/ZDNA_cousine.pkl')\n",
    "\n",
    "DNA_features = {feature: load(f'z_dna/hg38_features/sparse/{feature}.pkl') for feature in tqdm(feature_names)}\n",
    "\n",
    "np.random.seed(42)\n",
    "params = {'batch_size':32,\n",
    "          'num_workers':4,\n",
    "          'shuffle':True}\n",
    "\n",
    "train_dataset = Dataset(chrom_names, feature_names, \n",
    "                       DNA, DNA_features, \n",
    "                       ZDNA, train_intervals, lrp_feat = [])\n",
    "\n",
    "test_dataset = Dataset(chrom_names, feature_names, \n",
    "                       DNA, DNA_features, \n",
    "                       ZDNA, test_intervals, lrp_feat = [])\n",
    "\n",
    "loader_train = data.DataLoader(train_dataset, **params)\n",
    "loader_test = data.DataLoader(test_dataset, **params)"
   ]
  },
  {
   "cell_type": "code",
   "execution_count": null,
   "metadata": {},
   "outputs": [],
   "source": [
    "len(feature_names)"
   ]
  },
  {
   "cell_type": "code",
   "execution_count": null,
   "metadata": {},
   "outputs": [],
   "source": [
    "%%time\n",
    "\n",
    "device = torch.device(f'cuda:{1}')\n",
    "with torch.cuda.device(device):\n",
    "    set_random_seed(42)\n",
    "    model = DeepCNNSiLU_9L(top_count)\n",
    "    model = model.to('cuda')\n",
    "\n",
    "    opt = torch.optim.Adam(model.parameters(), lr=10**-4, weight_decay=10**-4)\n",
    "\n",
    "    val_auc_log, val_pr_log, val_rec_log, val_f1_log, val_acc_log, val_loss_log, times = train(model, opt, 10, loader_train, loader_test)\n",
    "    "
   ]
  },
  {
   "cell_type": "code",
   "execution_count": null,
   "metadata": {},
   "outputs": [],
   "source": [
    "print(\"Epoch {}\".format(np.argmax(val_f1_log) + 1))\n",
    "print(\"Max F1-score: {:.4f}\".format(val_f1_log[np.argmax(val_f1_log)]))\n",
    "print(\"ROC-AUC: {:.4f}\".format(val_auc_log[np.argmax(val_f1_log)]))\n",
    "print(\"Precision: {:.4f}\".format(val_pr_log[np.argmax(val_f1_log)]))\n",
    "print(\"Recall: {:.4f}\".format(val_rec_log[np.argmax(val_f1_log)]))\n",
    "\n",
    "print(\"Mean time for 1 epoch {:.2f} minutes\".format(np.mean(times) / 60))"
   ]
  },
  {
   "cell_type": "markdown",
   "metadata": {},
   "source": [
    "# 100"
   ]
  },
  {
   "cell_type": "code",
   "execution_count": null,
   "metadata": {},
   "outputs": [],
   "source": [
    "top_count = 104  # TODO вставить эту ячейку в свой код cnn\n",
    "\n",
    "features_top = features_range.iloc[:top_count].index.tolist()\n",
    "features = [i[:-4] for i in os.listdir('z_dna/hg38_features/sparse/') if i.endswith('_2.pkl')]\n",
    "\n",
    "top = []\n",
    "for index in features_top:\n",
    "    if index in [0, 1, 2, 3]:\n",
    "        continue\n",
    "        \n",
    "    index = index - 4\n",
    "    top.append(features[index])\n",
    "\n",
    "features = top\n",
    "feature_names = features\n",
    "\n",
    "DNA = {chrom:chrom_reader(chrom) for chrom in tqdm(chrom_names)}\n",
    "#ZDNA = load('z_dna/hg38_zdna/sparse/ZDNA_shin.pkl')\n",
    "ZDNA = load('z_dna/hg38_zdna/sparse/ZDNA_cousine.pkl')\n",
    "\n",
    "#ZDNA = load('z_dna/hg38_zdna/sparse/ZDNA_cousine.pkl')\n",
    "\n",
    "DNA_features = {feature: load(f'z_dna/hg38_features/sparse/{feature}.pkl') for feature in tqdm(feature_names)}\n",
    "\n",
    "np.random.seed(42)\n",
    "params = {'batch_size':32,\n",
    "          'num_workers':4,\n",
    "          'shuffle':True}\n",
    "\n",
    "train_dataset = Dataset(chrom_names, feature_names, \n",
    "                       DNA, DNA_features, \n",
    "                       ZDNA, train_intervals, lrp_feat = [])\n",
    "\n",
    "test_dataset = Dataset(chrom_names, feature_names, \n",
    "                       DNA, DNA_features, \n",
    "                       ZDNA, test_intervals, lrp_feat = [])\n",
    "\n",
    "loader_train = data.DataLoader(train_dataset, **params)\n",
    "loader_test = data.DataLoader(test_dataset, **params)"
   ]
  },
  {
   "cell_type": "code",
   "execution_count": null,
   "metadata": {},
   "outputs": [],
   "source": [
    "len(feature_names)"
   ]
  },
  {
   "cell_type": "code",
   "execution_count": null,
   "metadata": {},
   "outputs": [],
   "source": [
    "%%time\n",
    "\n",
    "device = torch.device(f'cuda:{1}')\n",
    "with torch.cuda.device(device):\n",
    "    set_random_seed(42)\n",
    "    model = DeepCNNSiLU_9L(top_count)\n",
    "    model = model.to('cuda')\n",
    "\n",
    "    opt = torch.optim.Adam(model.parameters(), lr=10**-4, weight_decay=10**-4)\n",
    "\n",
    "    val_auc_log, val_pr_log, val_rec_log, val_f1_log, val_acc_log, val_loss_log, times = train(model, opt, 10, loader_train, loader_test)\n",
    "    "
   ]
  },
  {
   "cell_type": "code",
   "execution_count": null,
   "metadata": {},
   "outputs": [],
   "source": [
    "print(\"Epoch {}\".format(np.argmax(val_f1_log) + 1))\n",
    "print(\"Max F1-score: {:.4f}\".format(val_f1_log[np.argmax(val_f1_log)]))\n",
    "print(\"ROC-AUC: {:.4f}\".format(val_auc_log[np.argmax(val_f1_log)]))\n",
    "print(\"Precision: {:.4f}\".format(val_pr_log[np.argmax(val_f1_log)]))\n",
    "print(\"Recall: {:.4f}\".format(val_rec_log[np.argmax(val_f1_log)]))\n",
    "\n",
    "print(\"Mean time for 1 epoch {:.2f} minutes\".format(np.mean(times) / 60))"
   ]
  },
  {
   "cell_type": "markdown",
   "metadata": {},
   "source": [
    "# 50"
   ]
  },
  {
   "cell_type": "code",
   "execution_count": null,
   "metadata": {},
   "outputs": [],
   "source": [
    "top_count = 54  # TODO вставить эту ячейку в свой код cnn\n",
    "\n",
    "features_top = features_range.iloc[:top_count].index.tolist()\n",
    "features = [i[:-4] for i in os.listdir('z_dna/hg38_features/sparse/') if i.endswith('_2.pkl')]\n",
    "\n",
    "top = []\n",
    "for index in features_top:\n",
    "    if index in [0, 1, 2, 3]:\n",
    "        continue\n",
    "        \n",
    "    index = index - 4\n",
    "    top.append(features[index])\n",
    "\n",
    "features = top\n",
    "feature_names = features\n",
    "\n",
    "DNA = {chrom:chrom_reader(chrom) for chrom in tqdm(chrom_names)}\n",
    "#ZDNA = load('z_dna/hg38_zdna/sparse/ZDNA_shin.pkl')\n",
    "ZDNA = load('z_dna/hg38_zdna/sparse/ZDNA_cousine.pkl')\n",
    "\n",
    "#ZDNA = load('z_dna/hg38_zdna/sparse/ZDNA_cousine.pkl')\n",
    "\n",
    "DNA_features = {feature: load(f'z_dna/hg38_features/sparse/{feature}.pkl') for feature in tqdm(feature_names)}\n",
    "\n",
    "np.random.seed(42)\n",
    "params = {'batch_size':32,\n",
    "          'num_workers':4,\n",
    "          'shuffle':True}\n",
    "\n",
    "train_dataset = Dataset(chrom_names, feature_names, \n",
    "                       DNA, DNA_features, \n",
    "                       ZDNA, train_intervals, lrp_feat = [])\n",
    "\n",
    "test_dataset = Dataset(chrom_names, feature_names, \n",
    "                       DNA, DNA_features, \n",
    "                       ZDNA, test_intervals, lrp_feat = [])\n",
    "\n",
    "loader_train = data.DataLoader(train_dataset, **params)\n",
    "loader_test = data.DataLoader(test_dataset, **params)"
   ]
  },
  {
   "cell_type": "code",
   "execution_count": null,
   "metadata": {},
   "outputs": [],
   "source": [
    "len(feature_names)"
   ]
  },
  {
   "cell_type": "code",
   "execution_count": null,
   "metadata": {},
   "outputs": [],
   "source": [
    "%%time\n",
    "\n",
    "device = torch.device(f'cuda:{1}')\n",
    "with torch.cuda.device(device):\n",
    "    set_random_seed(42)\n",
    "    model = DeepCNNSiLU_9L(top_count)\n",
    "    model = model.to('cuda')\n",
    "\n",
    "    opt = torch.optim.Adam(model.parameters(), lr=10**-4, weight_decay=10**-4)\n",
    "\n",
    "    val_auc_log, val_pr_log, val_rec_log, val_f1_log, val_acc_log, val_loss_log, times = train(model, opt, 10, loader_train, loader_test)\n",
    "    "
   ]
  },
  {
   "cell_type": "code",
   "execution_count": null,
   "metadata": {},
   "outputs": [],
   "source": [
    "print(\"Epoch {}\".format(np.argmax(val_f1_log) + 1))\n",
    "print(\"Max F1-score: {:.4f}\".format(val_f1_log[np.argmax(val_f1_log)]))\n",
    "print(\"ROC-AUC: {:.4f}\".format(val_auc_log[np.argmax(val_f1_log)]))\n",
    "print(\"Precision: {:.4f}\".format(val_pr_log[np.argmax(val_f1_log)]))\n",
    "print(\"Recall: {:.4f}\".format(val_rec_log[np.argmax(val_f1_log)]))\n",
    "\n",
    "print(\"Mean time for 1 epoch {:.2f} minutes\".format(np.mean(times) / 60))"
   ]
  },
  {
   "cell_type": "markdown",
   "metadata": {},
   "source": [
    "# 0"
   ]
  },
  {
   "cell_type": "code",
   "execution_count": null,
   "metadata": {},
   "outputs": [],
   "source": [
    "top_count = 4  # TODO вставить эту ячейку в свой код cnn\n",
    "\n",
    "features_top = features_range.iloc[:top_count].index.tolist()\n",
    "features = [i[:-4] for i in os.listdir('z_dna/hg38_features/sparse/') if i.endswith('_2.pkl')]\n",
    "\n",
    "top = []\n",
    "for index in features_top:\n",
    "    if index in [0, 1, 2, 3]:\n",
    "        continue\n",
    "        \n",
    "    index = index - 4\n",
    "    top.append(features[index])\n",
    "\n",
    "features = top\n",
    "feature_names = features\n",
    "\n",
    "DNA = {chrom:chrom_reader(chrom) for chrom in tqdm(chrom_names)}\n",
    "#ZDNA = load('z_dna/hg38_zdna/sparse/ZDNA_shin.pkl')\n",
    "ZDNA = load('z_dna/hg38_zdna/sparse/ZDNA_cousine.pkl')\n",
    "\n",
    "#ZDNA = load('z_dna/hg38_zdna/sparse/ZDNA_cousine.pkl')\n",
    "\n",
    "DNA_features = {feature: load(f'z_dna/hg38_features/sparse/{feature}.pkl') for feature in tqdm(feature_names)}\n",
    "\n",
    "np.random.seed(42)\n",
    "params = {'batch_size':32,\n",
    "          'num_workers':4,\n",
    "          'shuffle':True}\n",
    "\n",
    "train_dataset = Dataset(chrom_names, feature_names, \n",
    "                       DNA, DNA_features, \n",
    "                       ZDNA, train_intervals, lrp_feat = [])\n",
    "\n",
    "test_dataset = Dataset(chrom_names, feature_names, \n",
    "                       DNA, DNA_features, \n",
    "                       ZDNA, test_intervals, lrp_feat = [])\n",
    "\n",
    "loader_train = data.DataLoader(train_dataset, **params)\n",
    "loader_test = data.DataLoader(test_dataset, **params)"
   ]
  },
  {
   "cell_type": "code",
   "execution_count": null,
   "metadata": {},
   "outputs": [],
   "source": [
    "len(feature_names)"
   ]
  },
  {
   "cell_type": "code",
   "execution_count": null,
   "metadata": {},
   "outputs": [],
   "source": [
    "%%time\n",
    "\n",
    "device = torch.device(f'cuda:{1}')\n",
    "with torch.cuda.device(device):\n",
    "    set_random_seed(42)\n",
    "    model = DeepCNNSiLU_9L(top_count)\n",
    "    model = model.to('cuda')\n",
    "\n",
    "    opt = torch.optim.Adam(model.parameters(), lr=10**-4, weight_decay=10**-4)\n",
    "\n",
    "    val_auc_log, val_pr_log, val_rec_log, val_f1_log, val_acc_log, val_loss_log, times = train(model, opt, 10, loader_train, loader_test)\n",
    "    "
   ]
  },
  {
   "cell_type": "code",
   "execution_count": null,
   "metadata": {},
   "outputs": [],
   "source": [
    "print(\"Epoch {}\".format(np.argmax(val_f1_log) + 1))\n",
    "print(\"Max F1-score: {:.4f}\".format(val_f1_log[np.argmax(val_f1_log)]))\n",
    "print(\"ROC-AUC: {:.4f}\".format(val_auc_log[np.argmax(val_f1_log)]))\n",
    "print(\"Precision: {:.4f}\".format(val_pr_log[np.argmax(val_f1_log)]))\n",
    "print(\"Recall: {:.4f}\".format(val_rec_log[np.argmax(val_f1_log)]))\n",
    "\n",
    "print(\"Mean time for 1 epoch {:.2f} minutes\".format(np.mean(times) / 60))"
   ]
  },
  {
   "cell_type": "code",
   "execution_count": null,
   "metadata": {},
   "outputs": [],
   "source": []
  },
  {
   "cell_type": "code",
   "execution_count": null,
   "metadata": {},
   "outputs": [],
   "source": []
  }
 ],
 "metadata": {
  "accelerator": "GPU",
  "colab": {
   "gpuType": "T4",
   "provenance": []
  },
  "kaggle": {
   "accelerator": "gpu",
   "dataSources": [
    {
     "datasetId": 4771475,
     "sourceId": 8083495,
     "sourceType": "datasetVersion"
    }
   ],
   "dockerImageVersionId": 30699,
   "isGpuEnabled": true,
   "isInternetEnabled": true,
   "language": "python",
   "sourceType": "notebook"
  },
  "kernelspec": {
   "display_name": "Pyhton 3.9.0 (myenv)",
   "language": "python",
   "name": "myenv"
  },
  "language_info": {
   "codemirror_mode": {
    "name": "ipython",
    "version": 3
   },
   "file_extension": ".py",
   "mimetype": "text/x-python",
   "name": "python",
   "nbconvert_exporter": "python",
   "pygments_lexer": "ipython3",
   "version": "3.9.0"
  },
  "widgets": {
   "application/vnd.jupyter.widget-state+json": {
    "0896b7648d1d4bc987eae0149dc9dfa5": {
     "model_module": "@jupyter-widgets/controls",
     "model_module_version": "1.5.0",
     "model_name": "ProgressStyleModel",
     "state": {
      "_model_module": "@jupyter-widgets/controls",
      "_model_module_version": "1.5.0",
      "_model_name": "ProgressStyleModel",
      "_view_count": null,
      "_view_module": "@jupyter-widgets/base",
      "_view_module_version": "1.2.0",
      "_view_name": "StyleView",
      "bar_color": null,
      "description_width": ""
     }
    },
    "0a85ad8804a944b99ecfba320c5e1584": {
     "model_module": "@jupyter-widgets/controls",
     "model_module_version": "1.5.0",
     "model_name": "DescriptionStyleModel",
     "state": {
      "_model_module": "@jupyter-widgets/controls",
      "_model_module_version": "1.5.0",
      "_model_name": "DescriptionStyleModel",
      "_view_count": null,
      "_view_module": "@jupyter-widgets/base",
      "_view_module_version": "1.2.0",
      "_view_name": "StyleView",
      "description_width": ""
     }
    },
    "0a95d6e597ab46ccad571cf1b2b7da36": {
     "model_module": "@jupyter-widgets/controls",
     "model_module_version": "1.5.0",
     "model_name": "HTMLModel",
     "state": {
      "_dom_classes": [],
      "_model_module": "@jupyter-widgets/controls",
      "_model_module_version": "1.5.0",
      "_model_name": "HTMLModel",
      "_view_count": null,
      "_view_module": "@jupyter-widgets/controls",
      "_view_module_version": "1.5.0",
      "_view_name": "HTMLView",
      "description": "",
      "description_tooltip": null,
      "layout": "IPY_MODEL_9e114d0358cf4fa4a293a3873f99a55b",
      "placeholder": "​",
      "style": "IPY_MODEL_5753d900327245239e98715908df2b57",
      "value": "100%"
     }
    },
    "1bfb3429d411411796fea6585fe69e24": {
     "model_module": "@jupyter-widgets/controls",
     "model_module_version": "1.5.0",
     "model_name": "HTMLModel",
     "state": {
      "_dom_classes": [],
      "_model_module": "@jupyter-widgets/controls",
      "_model_module_version": "1.5.0",
      "_model_name": "HTMLModel",
      "_view_count": null,
      "_view_module": "@jupyter-widgets/controls",
      "_view_module_version": "1.5.0",
      "_view_name": "HTMLView",
      "description": "",
      "description_tooltip": null,
      "layout": "IPY_MODEL_6b20cb04e2604cc989fc2308edf7bdd5",
      "placeholder": "​",
      "style": "IPY_MODEL_2d025ce39b064205b54955da4c272fff",
      "value": " 25/25 [00:17&lt;00:00,  1.58it/s]"
     }
    },
    "2d025ce39b064205b54955da4c272fff": {
     "model_module": "@jupyter-widgets/controls",
     "model_module_version": "1.5.0",
     "model_name": "DescriptionStyleModel",
     "state": {
      "_model_module": "@jupyter-widgets/controls",
      "_model_module_version": "1.5.0",
      "_model_name": "DescriptionStyleModel",
      "_view_count": null,
      "_view_module": "@jupyter-widgets/base",
      "_view_module_version": "1.2.0",
      "_view_name": "StyleView",
      "description_width": ""
     }
    },
    "30c66ee530264946a29fa175f5dc395a": {
     "model_module": "@jupyter-widgets/controls",
     "model_module_version": "1.5.0",
     "model_name": "HBoxModel",
     "state": {
      "_dom_classes": [],
      "_model_module": "@jupyter-widgets/controls",
      "_model_module_version": "1.5.0",
      "_model_name": "HBoxModel",
      "_view_count": null,
      "_view_module": "@jupyter-widgets/controls",
      "_view_module_version": "1.5.0",
      "_view_name": "HBoxView",
      "box_style": "",
      "children": [
       "IPY_MODEL_6b17242e9ce045d69ba2ff8f0b93e65e",
       "IPY_MODEL_9a23ba68d79845899788fee7f11d1bf5",
       "IPY_MODEL_1bfb3429d411411796fea6585fe69e24"
      ],
      "layout": "IPY_MODEL_3deba33d23a24057a7a4127ae4249fe6"
     }
    },
    "3621bdd1cb3e4b12b610156a90100167": {
     "model_module": "@jupyter-widgets/base",
     "model_module_version": "1.2.0",
     "model_name": "LayoutModel",
     "state": {
      "_model_module": "@jupyter-widgets/base",
      "_model_module_version": "1.2.0",
      "_model_name": "LayoutModel",
      "_view_count": null,
      "_view_module": "@jupyter-widgets/base",
      "_view_module_version": "1.2.0",
      "_view_name": "LayoutView",
      "align_content": null,
      "align_items": null,
      "align_self": null,
      "border": null,
      "bottom": null,
      "display": null,
      "flex": null,
      "flex_flow": null,
      "grid_area": null,
      "grid_auto_columns": null,
      "grid_auto_flow": null,
      "grid_auto_rows": null,
      "grid_column": null,
      "grid_gap": null,
      "grid_row": null,
      "grid_template_areas": null,
      "grid_template_columns": null,
      "grid_template_rows": null,
      "height": null,
      "justify_content": null,
      "justify_items": null,
      "left": null,
      "margin": null,
      "max_height": null,
      "max_width": null,
      "min_height": null,
      "min_width": null,
      "object_fit": null,
      "object_position": null,
      "order": null,
      "overflow": null,
      "overflow_x": null,
      "overflow_y": null,
      "padding": null,
      "right": null,
      "top": null,
      "visibility": null,
      "width": null
     }
    },
    "3b59b59de28a4e49884a98fe65a49a49": {
     "model_module": "@jupyter-widgets/base",
     "model_module_version": "1.2.0",
     "model_name": "LayoutModel",
     "state": {
      "_model_module": "@jupyter-widgets/base",
      "_model_module_version": "1.2.0",
      "_model_name": "LayoutModel",
      "_view_count": null,
      "_view_module": "@jupyter-widgets/base",
      "_view_module_version": "1.2.0",
      "_view_name": "LayoutView",
      "align_content": null,
      "align_items": null,
      "align_self": null,
      "border": null,
      "bottom": null,
      "display": null,
      "flex": null,
      "flex_flow": null,
      "grid_area": null,
      "grid_auto_columns": null,
      "grid_auto_flow": null,
      "grid_auto_rows": null,
      "grid_column": null,
      "grid_gap": null,
      "grid_row": null,
      "grid_template_areas": null,
      "grid_template_columns": null,
      "grid_template_rows": null,
      "height": null,
      "justify_content": null,
      "justify_items": null,
      "left": null,
      "margin": null,
      "max_height": null,
      "max_width": null,
      "min_height": null,
      "min_width": null,
      "object_fit": null,
      "object_position": null,
      "order": null,
      "overflow": null,
      "overflow_x": null,
      "overflow_y": null,
      "padding": null,
      "right": null,
      "top": null,
      "visibility": null,
      "width": null
     }
    },
    "3deba33d23a24057a7a4127ae4249fe6": {
     "model_module": "@jupyter-widgets/base",
     "model_module_version": "1.2.0",
     "model_name": "LayoutModel",
     "state": {
      "_model_module": "@jupyter-widgets/base",
      "_model_module_version": "1.2.0",
      "_model_name": "LayoutModel",
      "_view_count": null,
      "_view_module": "@jupyter-widgets/base",
      "_view_module_version": "1.2.0",
      "_view_name": "LayoutView",
      "align_content": null,
      "align_items": null,
      "align_self": null,
      "border": null,
      "bottom": null,
      "display": null,
      "flex": null,
      "flex_flow": null,
      "grid_area": null,
      "grid_auto_columns": null,
      "grid_auto_flow": null,
      "grid_auto_rows": null,
      "grid_column": null,
      "grid_gap": null,
      "grid_row": null,
      "grid_template_areas": null,
      "grid_template_columns": null,
      "grid_template_rows": null,
      "height": null,
      "justify_content": null,
      "justify_items": null,
      "left": null,
      "margin": null,
      "max_height": null,
      "max_width": null,
      "min_height": null,
      "min_width": null,
      "object_fit": null,
      "object_position": null,
      "order": null,
      "overflow": null,
      "overflow_x": null,
      "overflow_y": null,
      "padding": null,
      "right": null,
      "top": null,
      "visibility": null,
      "width": null
     }
    },
    "5753d900327245239e98715908df2b57": {
     "model_module": "@jupyter-widgets/controls",
     "model_module_version": "1.5.0",
     "model_name": "DescriptionStyleModel",
     "state": {
      "_model_module": "@jupyter-widgets/controls",
      "_model_module_version": "1.5.0",
      "_model_name": "DescriptionStyleModel",
      "_view_count": null,
      "_view_module": "@jupyter-widgets/base",
      "_view_module_version": "1.2.0",
      "_view_name": "StyleView",
      "description_width": ""
     }
    },
    "6b17242e9ce045d69ba2ff8f0b93e65e": {
     "model_module": "@jupyter-widgets/controls",
     "model_module_version": "1.5.0",
     "model_name": "HTMLModel",
     "state": {
      "_dom_classes": [],
      "_model_module": "@jupyter-widgets/controls",
      "_model_module_version": "1.5.0",
      "_model_name": "HTMLModel",
      "_view_count": null,
      "_view_module": "@jupyter-widgets/controls",
      "_view_module_version": "1.5.0",
      "_view_name": "HTMLView",
      "description": "",
      "description_tooltip": null,
      "layout": "IPY_MODEL_de9227727e23401e9b91b4173dbae392",
      "placeholder": "​",
      "style": "IPY_MODEL_89d6d904deb74f00ab2949c79f218e77",
      "value": "100%"
     }
    },
    "6b20cb04e2604cc989fc2308edf7bdd5": {
     "model_module": "@jupyter-widgets/base",
     "model_module_version": "1.2.0",
     "model_name": "LayoutModel",
     "state": {
      "_model_module": "@jupyter-widgets/base",
      "_model_module_version": "1.2.0",
      "_model_name": "LayoutModel",
      "_view_count": null,
      "_view_module": "@jupyter-widgets/base",
      "_view_module_version": "1.2.0",
      "_view_name": "LayoutView",
      "align_content": null,
      "align_items": null,
      "align_self": null,
      "border": null,
      "bottom": null,
      "display": null,
      "flex": null,
      "flex_flow": null,
      "grid_area": null,
      "grid_auto_columns": null,
      "grid_auto_flow": null,
      "grid_auto_rows": null,
      "grid_column": null,
      "grid_gap": null,
      "grid_row": null,
      "grid_template_areas": null,
      "grid_template_columns": null,
      "grid_template_rows": null,
      "height": null,
      "justify_content": null,
      "justify_items": null,
      "left": null,
      "margin": null,
      "max_height": null,
      "max_width": null,
      "min_height": null,
      "min_width": null,
      "object_fit": null,
      "object_position": null,
      "order": null,
      "overflow": null,
      "overflow_x": null,
      "overflow_y": null,
      "padding": null,
      "right": null,
      "top": null,
      "visibility": null,
      "width": null
     }
    },
    "89d6d904deb74f00ab2949c79f218e77": {
     "model_module": "@jupyter-widgets/controls",
     "model_module_version": "1.5.0",
     "model_name": "DescriptionStyleModel",
     "state": {
      "_model_module": "@jupyter-widgets/controls",
      "_model_module_version": "1.5.0",
      "_model_name": "DescriptionStyleModel",
      "_view_count": null,
      "_view_module": "@jupyter-widgets/base",
      "_view_module_version": "1.2.0",
      "_view_name": "StyleView",
      "description_width": ""
     }
    },
    "9a23ba68d79845899788fee7f11d1bf5": {
     "model_module": "@jupyter-widgets/controls",
     "model_module_version": "1.5.0",
     "model_name": "FloatProgressModel",
     "state": {
      "_dom_classes": [],
      "_model_module": "@jupyter-widgets/controls",
      "_model_module_version": "1.5.0",
      "_model_name": "FloatProgressModel",
      "_view_count": null,
      "_view_module": "@jupyter-widgets/controls",
      "_view_module_version": "1.5.0",
      "_view_name": "ProgressView",
      "bar_style": "success",
      "description": "",
      "description_tooltip": null,
      "layout": "IPY_MODEL_d9c22f02365845a2852077f007e3f344",
      "max": 25,
      "min": 0,
      "orientation": "horizontal",
      "style": "IPY_MODEL_f34beffbbbfc4f1ea38bd935f44478a4",
      "value": 25
     }
    },
    "9e114d0358cf4fa4a293a3873f99a55b": {
     "model_module": "@jupyter-widgets/base",
     "model_module_version": "1.2.0",
     "model_name": "LayoutModel",
     "state": {
      "_model_module": "@jupyter-widgets/base",
      "_model_module_version": "1.2.0",
      "_model_name": "LayoutModel",
      "_view_count": null,
      "_view_module": "@jupyter-widgets/base",
      "_view_module_version": "1.2.0",
      "_view_name": "LayoutView",
      "align_content": null,
      "align_items": null,
      "align_self": null,
      "border": null,
      "bottom": null,
      "display": null,
      "flex": null,
      "flex_flow": null,
      "grid_area": null,
      "grid_auto_columns": null,
      "grid_auto_flow": null,
      "grid_auto_rows": null,
      "grid_column": null,
      "grid_gap": null,
      "grid_row": null,
      "grid_template_areas": null,
      "grid_template_columns": null,
      "grid_template_rows": null,
      "height": null,
      "justify_content": null,
      "justify_items": null,
      "left": null,
      "margin": null,
      "max_height": null,
      "max_width": null,
      "min_height": null,
      "min_width": null,
      "object_fit": null,
      "object_position": null,
      "order": null,
      "overflow": null,
      "overflow_x": null,
      "overflow_y": null,
      "padding": null,
      "right": null,
      "top": null,
      "visibility": null,
      "width": null
     }
    },
    "d39562c817494af5a79eaf46b7fd44df": {
     "model_module": "@jupyter-widgets/controls",
     "model_module_version": "1.5.0",
     "model_name": "HBoxModel",
     "state": {
      "_dom_classes": [],
      "_model_module": "@jupyter-widgets/controls",
      "_model_module_version": "1.5.0",
      "_model_name": "HBoxModel",
      "_view_count": null,
      "_view_module": "@jupyter-widgets/controls",
      "_view_module_version": "1.5.0",
      "_view_name": "HBoxView",
      "box_style": "",
      "children": [
       "IPY_MODEL_0a95d6e597ab46ccad571cf1b2b7da36",
       "IPY_MODEL_e2b61d0d00064b20bd5175a12107e385",
       "IPY_MODEL_e44e00d909aa46588486eca8b7bb69c8"
      ],
      "layout": "IPY_MODEL_3b59b59de28a4e49884a98fe65a49a49"
     }
    },
    "d9c22f02365845a2852077f007e3f344": {
     "model_module": "@jupyter-widgets/base",
     "model_module_version": "1.2.0",
     "model_name": "LayoutModel",
     "state": {
      "_model_module": "@jupyter-widgets/base",
      "_model_module_version": "1.2.0",
      "_model_name": "LayoutModel",
      "_view_count": null,
      "_view_module": "@jupyter-widgets/base",
      "_view_module_version": "1.2.0",
      "_view_name": "LayoutView",
      "align_content": null,
      "align_items": null,
      "align_self": null,
      "border": null,
      "bottom": null,
      "display": null,
      "flex": null,
      "flex_flow": null,
      "grid_area": null,
      "grid_auto_columns": null,
      "grid_auto_flow": null,
      "grid_auto_rows": null,
      "grid_column": null,
      "grid_gap": null,
      "grid_row": null,
      "grid_template_areas": null,
      "grid_template_columns": null,
      "grid_template_rows": null,
      "height": null,
      "justify_content": null,
      "justify_items": null,
      "left": null,
      "margin": null,
      "max_height": null,
      "max_width": null,
      "min_height": null,
      "min_width": null,
      "object_fit": null,
      "object_position": null,
      "order": null,
      "overflow": null,
      "overflow_x": null,
      "overflow_y": null,
      "padding": null,
      "right": null,
      "top": null,
      "visibility": null,
      "width": null
     }
    },
    "de9227727e23401e9b91b4173dbae392": {
     "model_module": "@jupyter-widgets/base",
     "model_module_version": "1.2.0",
     "model_name": "LayoutModel",
     "state": {
      "_model_module": "@jupyter-widgets/base",
      "_model_module_version": "1.2.0",
      "_model_name": "LayoutModel",
      "_view_count": null,
      "_view_module": "@jupyter-widgets/base",
      "_view_module_version": "1.2.0",
      "_view_name": "LayoutView",
      "align_content": null,
      "align_items": null,
      "align_self": null,
      "border": null,
      "bottom": null,
      "display": null,
      "flex": null,
      "flex_flow": null,
      "grid_area": null,
      "grid_auto_columns": null,
      "grid_auto_flow": null,
      "grid_auto_rows": null,
      "grid_column": null,
      "grid_gap": null,
      "grid_row": null,
      "grid_template_areas": null,
      "grid_template_columns": null,
      "grid_template_rows": null,
      "height": null,
      "justify_content": null,
      "justify_items": null,
      "left": null,
      "margin": null,
      "max_height": null,
      "max_width": null,
      "min_height": null,
      "min_width": null,
      "object_fit": null,
      "object_position": null,
      "order": null,
      "overflow": null,
      "overflow_x": null,
      "overflow_y": null,
      "padding": null,
      "right": null,
      "top": null,
      "visibility": null,
      "width": null
     }
    },
    "e2b61d0d00064b20bd5175a12107e385": {
     "model_module": "@jupyter-widgets/controls",
     "model_module_version": "1.5.0",
     "model_name": "FloatProgressModel",
     "state": {
      "_dom_classes": [],
      "_model_module": "@jupyter-widgets/controls",
      "_model_module_version": "1.5.0",
      "_model_name": "FloatProgressModel",
      "_view_count": null,
      "_view_module": "@jupyter-widgets/controls",
      "_view_module_version": "1.5.0",
      "_view_name": "ProgressView",
      "bar_style": "success",
      "description": "",
      "description_tooltip": null,
      "layout": "IPY_MODEL_3621bdd1cb3e4b12b610156a90100167",
      "max": 1054,
      "min": 0,
      "orientation": "horizontal",
      "style": "IPY_MODEL_0896b7648d1d4bc987eae0149dc9dfa5",
      "value": 1054
     }
    },
    "e44e00d909aa46588486eca8b7bb69c8": {
     "model_module": "@jupyter-widgets/controls",
     "model_module_version": "1.5.0",
     "model_name": "HTMLModel",
     "state": {
      "_dom_classes": [],
      "_model_module": "@jupyter-widgets/controls",
      "_model_module_version": "1.5.0",
      "_model_name": "HTMLModel",
      "_view_count": null,
      "_view_module": "@jupyter-widgets/controls",
      "_view_module_version": "1.5.0",
      "_view_name": "HTMLView",
      "description": "",
      "description_tooltip": null,
      "layout": "IPY_MODEL_e587412606ea44e99b63b4b66b7dc78d",
      "placeholder": "​",
      "style": "IPY_MODEL_0a85ad8804a944b99ecfba320c5e1584",
      "value": " 1054/1054 [00:22&lt;00:00, 51.94it/s]"
     }
    },
    "e587412606ea44e99b63b4b66b7dc78d": {
     "model_module": "@jupyter-widgets/base",
     "model_module_version": "1.2.0",
     "model_name": "LayoutModel",
     "state": {
      "_model_module": "@jupyter-widgets/base",
      "_model_module_version": "1.2.0",
      "_model_name": "LayoutModel",
      "_view_count": null,
      "_view_module": "@jupyter-widgets/base",
      "_view_module_version": "1.2.0",
      "_view_name": "LayoutView",
      "align_content": null,
      "align_items": null,
      "align_self": null,
      "border": null,
      "bottom": null,
      "display": null,
      "flex": null,
      "flex_flow": null,
      "grid_area": null,
      "grid_auto_columns": null,
      "grid_auto_flow": null,
      "grid_auto_rows": null,
      "grid_column": null,
      "grid_gap": null,
      "grid_row": null,
      "grid_template_areas": null,
      "grid_template_columns": null,
      "grid_template_rows": null,
      "height": null,
      "justify_content": null,
      "justify_items": null,
      "left": null,
      "margin": null,
      "max_height": null,
      "max_width": null,
      "min_height": null,
      "min_width": null,
      "object_fit": null,
      "object_position": null,
      "order": null,
      "overflow": null,
      "overflow_x": null,
      "overflow_y": null,
      "padding": null,
      "right": null,
      "top": null,
      "visibility": null,
      "width": null
     }
    },
    "f34beffbbbfc4f1ea38bd935f44478a4": {
     "model_module": "@jupyter-widgets/controls",
     "model_module_version": "1.5.0",
     "model_name": "ProgressStyleModel",
     "state": {
      "_model_module": "@jupyter-widgets/controls",
      "_model_module_version": "1.5.0",
      "_model_name": "ProgressStyleModel",
      "_view_count": null,
      "_view_module": "@jupyter-widgets/base",
      "_view_module_version": "1.2.0",
      "_view_name": "StyleView",
      "bar_color": null,
      "description_width": ""
     }
    }
   }
  }
 },
 "nbformat": 4,
 "nbformat_minor": 4
}
